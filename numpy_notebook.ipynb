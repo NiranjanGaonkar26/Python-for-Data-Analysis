{
 "cells": [
  {
   "cell_type": "markdown",
   "id": "6b6fd046",
   "metadata": {},
   "source": [
    "NumPy - Specialized library for doing numerical computations and mathematical operations. (eg - Dot Product, Matrix Multiplication etc).\n",
    "\n",
    "Official Documentation - https://numpy.org/doc/stable/reference/index.html"
   ]
  },
  {
   "cell_type": "code",
   "execution_count": 167,
   "id": "7be8c3e0",
   "metadata": {},
   "outputs": [],
   "source": [
    "import numpy as np"
   ]
  },
  {
   "cell_type": "markdown",
   "id": "7749b0c7",
   "metadata": {},
   "source": [
    "Numpy array - a list like data structure"
   ]
  },
  {
   "cell_type": "code",
   "execution_count": 3,
   "id": "d8283728",
   "metadata": {},
   "outputs": [
    {
     "data": {
      "text/plain": [
       "array([73, 67, 43])"
      ]
     },
     "execution_count": 3,
     "metadata": {},
     "output_type": "execute_result"
    }
   ],
   "source": [
    "kanto = np.array([73, 67, 43])\n",
    "kanto"
   ]
  },
  {
   "cell_type": "code",
   "execution_count": 4,
   "id": "5110ad51",
   "metadata": {},
   "outputs": [
    {
     "data": {
      "text/plain": [
       "73"
      ]
     },
     "execution_count": 4,
     "metadata": {},
     "output_type": "execute_result"
    }
   ],
   "source": [
    "kanto[0]           #Supports 0 based indexing"
   ]
  },
  {
   "cell_type": "code",
   "execution_count": 5,
   "id": "44992a29",
   "metadata": {},
   "outputs": [
    {
     "data": {
      "text/plain": [
       "array([0.3, 0.2, 0.5])"
      ]
     },
     "execution_count": 5,
     "metadata": {},
     "output_type": "execute_result"
    }
   ],
   "source": [
    "weights = np.array([0.3, 0.2, 0.5])\n",
    "weights"
   ]
  },
  {
   "cell_type": "code",
   "execution_count": 6,
   "id": "e1aa9ceb",
   "metadata": {},
   "outputs": [
    {
     "data": {
      "text/plain": [
       "numpy.ndarray"
      ]
     },
     "execution_count": 6,
     "metadata": {},
     "output_type": "execute_result"
    }
   ],
   "source": [
    "type(kanto)"
   ]
  },
  {
   "cell_type": "markdown",
   "id": "2e2cb2ed",
   "metadata": {},
   "source": [
    "Operations on numpy arrays"
   ]
  },
  {
   "cell_type": "code",
   "execution_count": 7,
   "id": "096ff3a2",
   "metadata": {},
   "outputs": [
    {
     "data": {
      "text/plain": [
       "56.8"
      ]
     },
     "execution_count": 7,
     "metadata": {},
     "output_type": "execute_result"
    }
   ],
   "source": [
    "#Dot product\n",
    "\n",
    "np.dot(kanto, weights)"
   ]
  },
  {
   "cell_type": "code",
   "execution_count": 8,
   "id": "36e47c88",
   "metadata": {},
   "outputs": [
    {
     "data": {
      "text/plain": [
       "2"
      ]
     },
     "execution_count": 8,
     "metadata": {},
     "output_type": "execute_result"
    }
   ],
   "source": [
    "np.dot([True, False], [2,3])       #True = 1, False = 0"
   ]
  },
  {
   "cell_type": "code",
   "execution_count": 9,
   "id": "cff89db2",
   "metadata": {},
   "outputs": [
    {
     "data": {
      "text/plain": [
       "array([21.9, 13.4, 21.5])"
      ]
     },
     "execution_count": 9,
     "metadata": {},
     "output_type": "execute_result"
    }
   ],
   "source": [
    "# * - Element wise multiplication between 2 vectors\n",
    "res = kanto * weights\n",
    "res"
   ]
  },
  {
   "cell_type": "code",
   "execution_count": 10,
   "id": "da7c3827",
   "metadata": {},
   "outputs": [
    {
     "data": {
      "text/plain": [
       "56.8"
      ]
     },
     "execution_count": 10,
     "metadata": {},
     "output_type": "execute_result"
    }
   ],
   "source": [
    "# Sum of elements in an array\n",
    "res.sum()"
   ]
  },
  {
   "cell_type": "markdown",
   "id": "37f03335",
   "metadata": {},
   "source": [
    "Benefits of Numpy over python lists\n",
    "\n",
    "1. Ease of use - numpy is built for performing mathematical computations\n",
    "2. Performance boost - Numpy operations are implemented internally using C++ which is compiled to assembly. This makes it much faster than python statements and loops which are interpreted at runtime"
   ]
  },
  {
   "cell_type": "code",
   "execution_count": 11,
   "id": "12b6ff33",
   "metadata": {},
   "outputs": [],
   "source": [
    "l1 = list(range(0, 1000000))\n",
    "l2 = list(range(1000000, 2000000))\n",
    "\n",
    "nparr1 = np.array(l1)\n",
    "nparr2 = np.array(l2)"
   ]
  },
  {
   "cell_type": "code",
   "execution_count": 13,
   "id": "ed8853b1",
   "metadata": {},
   "outputs": [
    {
     "name": "stdout",
     "output_type": "stream",
     "text": [
      "CPU times: user 164 ms, sys: 36.9 ms, total: 201 ms\n",
      "Wall time: 212 ms\n"
     ]
    },
    {
     "data": {
      "text/plain": [
       "833332333333500000"
      ]
     },
     "execution_count": 13,
     "metadata": {},
     "output_type": "execute_result"
    }
   ],
   "source": [
    "%%time\n",
    "res = 0\n",
    "for x,y in zip(l1, l2):\n",
    "    res += x*y\n",
    "\n",
    "res"
   ]
  },
  {
   "cell_type": "code",
   "execution_count": 17,
   "id": "f4e91c9b",
   "metadata": {},
   "outputs": [
    {
     "name": "stdout",
     "output_type": "stream",
     "text": [
      "CPU times: user 2.03 ms, sys: 5.72 ms, total: 7.74 ms\n",
      "Wall time: 6.24 ms\n"
     ]
    },
    {
     "data": {
      "text/plain": [
       "833332333333500000"
      ]
     },
     "execution_count": 17,
     "metadata": {},
     "output_type": "execute_result"
    }
   ],
   "source": [
    "%%time\n",
    "np.dot(nparr1, nparr2)               #np.dot() is ~100 times faster than the equivalent python logic"
   ]
  },
  {
   "cell_type": "code",
   "execution_count": 16,
   "id": "e73ddb63",
   "metadata": {},
   "outputs": [
    {
     "name": "stdout",
     "output_type": "stream",
     "text": [
      "CPU times: user 2.75 ms, sys: 3.99 ms, total: 6.74 ms\n",
      "Wall time: 8.51 ms\n"
     ]
    },
    {
     "data": {
      "text/plain": [
       "833332333333500000"
      ]
     },
     "execution_count": 16,
     "metadata": {},
     "output_type": "execute_result"
    }
   ],
   "source": [
    "%%time\n",
    "(nparr1 * nparr2).sum()"
   ]
  },
  {
   "cell_type": "markdown",
   "id": "abb91d6d",
   "metadata": {},
   "source": [
    "Multidimensional Arrays"
   ]
  },
  {
   "cell_type": "code",
   "execution_count": null,
   "id": "064a3d64",
   "metadata": {},
   "outputs": [],
   "source": [
    "# 2-d arrays (list of lists) - Matrix\n",
    "\n",
    "climate_data = np.array([[73, 67, 43],\n",
    "                         [91, 88, 64],\n",
    "                         [87, 134, 58],\n",
    "                         [102, 43, 37],\n",
    "                         [69, 96, 70]\n",
    "                        ])"
   ]
  },
  {
   "cell_type": "code",
   "execution_count": 19,
   "id": "4daab567",
   "metadata": {},
   "outputs": [
    {
     "data": {
      "text/plain": [
       "array([[ 73,  67,  43],\n",
       "       [ 91,  88,  64],\n",
       "       [ 87, 134,  58],\n",
       "       [102,  43,  37],\n",
       "       [ 69,  96,  70]])"
      ]
     },
     "execution_count": 19,
     "metadata": {},
     "output_type": "execute_result"
    }
   ],
   "source": [
    "climate_data"
   ]
  },
  {
   "cell_type": "code",
   "execution_count": 22,
   "id": "6c82c25a",
   "metadata": {},
   "outputs": [
    {
     "data": {
      "text/plain": [
       "array([[[ 1,  1],\n",
       "        [ 1,  1]],\n",
       "\n",
       "       [[10, 20],\n",
       "        [30, 40]]])"
      ]
     },
     "execution_count": 22,
     "metadata": {},
     "output_type": "execute_result"
    }
   ],
   "source": [
    "# 3-d arrays (list of matrices)\n",
    "\n",
    "arr3 = np.array([\n",
    "               [[1,1],[1,1]],\n",
    "               [[10, 20],[30, 40]]\n",
    "])\n",
    "\n",
    "arr3"
   ]
  },
  {
   "cell_type": "code",
   "execution_count": 26,
   "id": "c8024b3d",
   "metadata": {},
   "outputs": [
    {
     "data": {
      "text/plain": [
       "(5, 3)"
      ]
     },
     "execution_count": 26,
     "metadata": {},
     "output_type": "execute_result"
    }
   ],
   "source": [
    "#Getting dimension(also called axes in numpy terminology) info of an np array - use shape attribute\n",
    "climate_data.shape"
   ]
  },
  {
   "cell_type": "code",
   "execution_count": 24,
   "id": "c0411e0d",
   "metadata": {},
   "outputs": [
    {
     "data": {
      "text/plain": [
       "(2, 2, 2)"
      ]
     },
     "execution_count": 24,
     "metadata": {},
     "output_type": "execute_result"
    }
   ],
   "source": [
    "arr3.shape"
   ]
  },
  {
   "cell_type": "code",
   "execution_count": 27,
   "id": "901eebd2",
   "metadata": {},
   "outputs": [
    {
     "ename": "ValueError",
     "evalue": "setting an array element with a sequence. The requested array has an inhomogeneous shape after 1 dimensions. The detected shape was (2,) + inhomogeneous part.",
     "output_type": "error",
     "traceback": [
      "\u001b[0;31m---------------------------------------------------------------------------\u001b[0m",
      "\u001b[0;31mValueError\u001b[0m                                Traceback (most recent call last)",
      "Cell \u001b[0;32mIn[27], line 1\u001b[0m\n\u001b[0;32m----> 1\u001b[0m mat \u001b[38;5;241m=\u001b[39m np\u001b[38;5;241m.\u001b[39marray([[\u001b[38;5;241m1\u001b[39m,\u001b[38;5;241m2\u001b[39m],\n\u001b[1;32m      2\u001b[0m                 [\u001b[38;5;241m4\u001b[39m]])\n",
      "\u001b[0;31mValueError\u001b[0m: setting an array element with a sequence. The requested array has an inhomogeneous shape after 1 dimensions. The detected shape was (2,) + inhomogeneous part."
     ]
    }
   ],
   "source": [
    "mat = np.array([[1,2],\n",
    "                [4]])"
   ]
  },
  {
   "cell_type": "code",
   "execution_count": 29,
   "id": "9a661d88",
   "metadata": {},
   "outputs": [
    {
     "name": "stdout",
     "output_type": "stream",
     "text": [
      "[73 67 43]\n",
      "int64\n",
      "[0.3 0.2 0.5]\n",
      "float64\n"
     ]
    }
   ],
   "source": [
    "#All the elements in an np array have the same data type. \n",
    "# You can check the datatype of an array using .dtype attribute\n",
    "\n",
    "print(kanto)\n",
    "print(kanto.dtype)\n",
    "\n",
    "print(weights)\n",
    "print(weights.dtype)"
   ]
  },
  {
   "cell_type": "code",
   "execution_count": 34,
   "id": "65bff445",
   "metadata": {},
   "outputs": [
    {
     "name": "stdout",
     "output_type": "stream",
     "text": [
      "['1' 'a' '2']\n",
      "<U21\n"
     ]
    }
   ],
   "source": [
    "a1 = np.array([1,'a',2])       #Numpy tries to make a homogenous array by upcasting elements to a common compatible type\n",
    "print(a1)\n",
    "print(a1.dtype)"
   ]
  },
  {
   "cell_type": "code",
   "execution_count": null,
   "id": "ae76ad2e",
   "metadata": {},
   "outputs": [
    {
     "name": "stdout",
     "output_type": "stream",
     "text": [
      "[1.  5.3]\n",
      "float64\n"
     ]
    }
   ],
   "source": [
    "a2 = np.array([1, 5.3])              \n",
    "print(a2)\n",
    "print(a2.dtype)"
   ]
  },
  {
   "cell_type": "markdown",
   "id": "68566d6c",
   "metadata": {},
   "source": [
    "Matrix Multiplication - In numpy this can be done using the np.matmul() method or by using the @ operator"
   ]
  },
  {
   "cell_type": "code",
   "execution_count": 35,
   "id": "e4602fdc",
   "metadata": {},
   "outputs": [
    {
     "data": {
      "text/plain": [
       "array([[ 73,  67,  43],\n",
       "       [ 91,  88,  64],\n",
       "       [ 87, 134,  58],\n",
       "       [102,  43,  37],\n",
       "       [ 69,  96,  70]])"
      ]
     },
     "execution_count": 35,
     "metadata": {},
     "output_type": "execute_result"
    }
   ],
   "source": [
    "climate_data"
   ]
  },
  {
   "cell_type": "code",
   "execution_count": 36,
   "id": "25972637",
   "metadata": {},
   "outputs": [
    {
     "data": {
      "text/plain": [
       "array([0.3, 0.2, 0.5])"
      ]
     },
     "execution_count": 36,
     "metadata": {},
     "output_type": "execute_result"
    }
   ],
   "source": [
    "weights"
   ]
  },
  {
   "cell_type": "code",
   "execution_count": 37,
   "id": "dabdb68f",
   "metadata": {},
   "outputs": [
    {
     "data": {
      "text/plain": [
       "array([56.8, 76.9, 81.9, 57.7, 74.9])"
      ]
     },
     "execution_count": 37,
     "metadata": {},
     "output_type": "execute_result"
    }
   ],
   "source": [
    "np.matmul(climate_data, weights)"
   ]
  },
  {
   "cell_type": "code",
   "execution_count": 38,
   "id": "38c9dcc3",
   "metadata": {},
   "outputs": [
    {
     "data": {
      "text/plain": [
       "array([56.8, 76.9, 81.9, 57.7, 74.9])"
      ]
     },
     "execution_count": 38,
     "metadata": {},
     "output_type": "execute_result"
    }
   ],
   "source": [
    "climate_data @ weights"
   ]
  },
  {
   "cell_type": "code",
   "execution_count": 39,
   "id": "f2d03994",
   "metadata": {},
   "outputs": [
    {
     "ename": "TypeError",
     "evalue": "unsupported operand type(s) for @: 'list' and 'list'",
     "output_type": "error",
     "traceback": [
      "\u001b[0;31m---------------------------------------------------------------------------\u001b[0m",
      "\u001b[0;31mTypeError\u001b[0m                                 Traceback (most recent call last)",
      "Cell \u001b[0;32mIn[39], line 1\u001b[0m\n\u001b[0;32m----> 1\u001b[0m [[\u001b[38;5;241m1\u001b[39m,\u001b[38;5;241m1\u001b[39m],[\u001b[38;5;241m1\u001b[39m,\u001b[38;5;241m1\u001b[39m]] \u001b[38;5;241m@\u001b[39m [[\u001b[38;5;241m1\u001b[39m,\u001b[38;5;241m1\u001b[39m],[\u001b[38;5;241m1\u001b[39m,\u001b[38;5;241m1\u001b[39m]]\n",
      "\u001b[0;31mTypeError\u001b[0m: unsupported operand type(s) for @: 'list' and 'list'"
     ]
    }
   ],
   "source": [
    "[[1,1],[1,1]] @ [[1,1],[1,1]]"
   ]
  },
  {
   "cell_type": "code",
   "execution_count": 41,
   "id": "500ba373",
   "metadata": {},
   "outputs": [],
   "source": [
    "from urllib import request"
   ]
  },
  {
   "cell_type": "code",
   "execution_count": 42,
   "id": "307d40bb",
   "metadata": {},
   "outputs": [
    {
     "data": {
      "text/plain": [
       "('climate.csv', <http.client.HTTPMessage at 0x10df83b10>)"
      ]
     },
     "execution_count": 42,
     "metadata": {},
     "output_type": "execute_result"
    }
   ],
   "source": [
    "request.urlretrieve('https://gist.github.com/BirajCoder/a4ffcb76fd6fb221d76ac2ee2b8584e9/raw/4054f90adfd361b7aa4255e99c2e874664094cea/climate.csv', \n",
    "    'climate.csv')"
   ]
  },
  {
   "cell_type": "code",
   "execution_count": 45,
   "id": "80e97746",
   "metadata": {},
   "outputs": [],
   "source": [
    "#np.genfromtxt() method can be used to store structured data from a txt, csv file in a numpy array\n",
    "climate_data = np.genfromtxt('climate.csv', delimiter=',', skip_header=True)"
   ]
  },
  {
   "cell_type": "code",
   "execution_count": 46,
   "id": "39a6c057",
   "metadata": {},
   "outputs": [
    {
     "data": {
      "text/plain": [
       "array([[25., 76., 99.],\n",
       "       [39., 65., 70.],\n",
       "       [59., 45., 77.],\n",
       "       ...,\n",
       "       [99., 62., 58.],\n",
       "       [70., 71., 91.],\n",
       "       [92., 39., 76.]])"
      ]
     },
     "execution_count": 46,
     "metadata": {},
     "output_type": "execute_result"
    }
   ],
   "source": [
    "climate_data"
   ]
  },
  {
   "cell_type": "code",
   "execution_count": 48,
   "id": "8235f324",
   "metadata": {},
   "outputs": [
    {
     "data": {
      "text/plain": [
       "(10000, 3)"
      ]
     },
     "execution_count": 48,
     "metadata": {},
     "output_type": "execute_result"
    }
   ],
   "source": [
    "climate_data.shape"
   ]
  },
  {
   "cell_type": "code",
   "execution_count": 49,
   "id": "9e980151",
   "metadata": {},
   "outputs": [
    {
     "data": {
      "text/plain": [
       "array([72.2, 59.7, 65.2, ..., 71.1, 80.7, 73.4])"
      ]
     },
     "execution_count": 49,
     "metadata": {},
     "output_type": "execute_result"
    }
   ],
   "source": [
    "yields = climate_data @ weights\n",
    "yields"
   ]
  },
  {
   "cell_type": "code",
   "execution_count": 50,
   "id": "9c234950",
   "metadata": {},
   "outputs": [
    {
     "data": {
      "text/plain": [
       "(10000,)"
      ]
     },
     "execution_count": 50,
     "metadata": {},
     "output_type": "execute_result"
    }
   ],
   "source": [
    "yields.shape"
   ]
  },
  {
   "cell_type": "markdown",
   "id": "7099534b",
   "metadata": {},
   "source": [
    "np.concatenate - Concatenates a tuple of arrays into along an existing axis"
   ]
  },
  {
   "cell_type": "code",
   "execution_count": 51,
   "id": "6d9bb2de",
   "metadata": {},
   "outputs": [
    {
     "name": "stdout",
     "output_type": "stream",
     "text": [
      "Help on function concatenate in module numpy:\n",
      "\n",
      "concatenate(...)\n",
      "    concatenate((a1, a2, ...), axis=0, out=None, dtype=None, casting=\"same_kind\")\n",
      "    \n",
      "    Join a sequence of arrays along an existing axis.\n",
      "    \n",
      "    Parameters\n",
      "    ----------\n",
      "    a1, a2, ... : sequence of array_like\n",
      "        The arrays must have the same shape, except in the dimension\n",
      "        corresponding to `axis` (the first, by default).\n",
      "    axis : int, optional\n",
      "        The axis along which the arrays will be joined.  If axis is None,\n",
      "        arrays are flattened before use.  Default is 0.\n",
      "    out : ndarray, optional\n",
      "        If provided, the destination to place the result. The shape must be\n",
      "        correct, matching that of what concatenate would have returned if no\n",
      "        out argument were specified.\n",
      "    dtype : str or dtype\n",
      "        If provided, the destination array will have this dtype. Cannot be\n",
      "        provided together with `out`.\n",
      "    \n",
      "        .. versionadded:: 1.20.0\n",
      "    \n",
      "    casting : {'no', 'equiv', 'safe', 'same_kind', 'unsafe'}, optional\n",
      "        Controls what kind of data casting may occur. Defaults to 'same_kind'.\n",
      "    \n",
      "        .. versionadded:: 1.20.0\n",
      "    \n",
      "    Returns\n",
      "    -------\n",
      "    res : ndarray\n",
      "        The concatenated array.\n",
      "    \n",
      "    See Also\n",
      "    --------\n",
      "    ma.concatenate : Concatenate function that preserves input masks.\n",
      "    array_split : Split an array into multiple sub-arrays of equal or\n",
      "                  near-equal size.\n",
      "    split : Split array into a list of multiple sub-arrays of equal size.\n",
      "    hsplit : Split array into multiple sub-arrays horizontally (column wise).\n",
      "    vsplit : Split array into multiple sub-arrays vertically (row wise).\n",
      "    dsplit : Split array into multiple sub-arrays along the 3rd axis (depth).\n",
      "    stack : Stack a sequence of arrays along a new axis.\n",
      "    block : Assemble arrays from blocks.\n",
      "    hstack : Stack arrays in sequence horizontally (column wise).\n",
      "    vstack : Stack arrays in sequence vertically (row wise).\n",
      "    dstack : Stack arrays in sequence depth wise (along third dimension).\n",
      "    column_stack : Stack 1-D arrays as columns into a 2-D array.\n",
      "    \n",
      "    Notes\n",
      "    -----\n",
      "    When one or more of the arrays to be concatenated is a MaskedArray,\n",
      "    this function will return a MaskedArray object instead of an ndarray,\n",
      "    but the input masks are *not* preserved. In cases where a MaskedArray\n",
      "    is expected as input, use the ma.concatenate function from the masked\n",
      "    array module instead.\n",
      "    \n",
      "    Examples\n",
      "    --------\n",
      "    >>> a = np.array([[1, 2], [3, 4]])\n",
      "    >>> b = np.array([[5, 6]])\n",
      "    >>> np.concatenate((a, b), axis=0)\n",
      "    array([[1, 2],\n",
      "           [3, 4],\n",
      "           [5, 6]])\n",
      "    >>> np.concatenate((a, b.T), axis=1)\n",
      "    array([[1, 2, 5],\n",
      "           [3, 4, 6]])\n",
      "    >>> np.concatenate((a, b), axis=None)\n",
      "    array([1, 2, 3, 4, 5, 6])\n",
      "    \n",
      "    This function will not preserve masking of MaskedArray inputs.\n",
      "    \n",
      "    >>> a = np.ma.arange(3)\n",
      "    >>> a[1] = np.ma.masked\n",
      "    >>> b = np.arange(2, 5)\n",
      "    >>> a\n",
      "    masked_array(data=[0, --, 2],\n",
      "                 mask=[False,  True, False],\n",
      "           fill_value=999999)\n",
      "    >>> b\n",
      "    array([2, 3, 4])\n",
      "    >>> np.concatenate([a, b])\n",
      "    masked_array(data=[0, 1, 2, 2, 3, 4],\n",
      "                 mask=False,\n",
      "           fill_value=999999)\n",
      "    >>> np.ma.concatenate([a, b])\n",
      "    masked_array(data=[0, --, 2, 2, 3, 4],\n",
      "                 mask=[False,  True, False, False, False, False],\n",
      "           fill_value=999999)\n",
      "\n"
     ]
    }
   ],
   "source": [
    "help(np.concatenate)"
   ]
  },
  {
   "cell_type": "code",
   "execution_count": 61,
   "id": "299a8199",
   "metadata": {},
   "outputs": [],
   "source": [
    "climate_results = np.concatenate((climate_data, yields.reshape(10000, 1)), axis=1)"
   ]
  },
  {
   "cell_type": "code",
   "execution_count": 62,
   "id": "1d56b5b7",
   "metadata": {},
   "outputs": [
    {
     "data": {
      "text/plain": [
       "array([[25. , 76. , 99. , 72.2],\n",
       "       [39. , 65. , 70. , 59.7],\n",
       "       [59. , 45. , 77. , 65.2],\n",
       "       ...,\n",
       "       [99. , 62. , 58. , 71.1],\n",
       "       [70. , 71. , 91. , 80.7],\n",
       "       [92. , 39. , 76. , 73.4]])"
      ]
     },
     "execution_count": 62,
     "metadata": {},
     "output_type": "execute_result"
    }
   ],
   "source": [
    "climate_results"
   ]
  },
  {
   "cell_type": "markdown",
   "id": "451b3b45",
   "metadata": {},
   "source": [
    "np.reshape() - Changes the shape (dimensions) of the given array without changing the data. The new shape must be compatible with the original shape"
   ]
  },
  {
   "cell_type": "code",
   "execution_count": 63,
   "id": "33c2ebdb",
   "metadata": {},
   "outputs": [
    {
     "name": "stdout",
     "output_type": "stream",
     "text": [
      "Help on function reshape in module numpy:\n",
      "\n",
      "reshape(a, newshape, order='C')\n",
      "    Gives a new shape to an array without changing its data.\n",
      "    \n",
      "    Parameters\n",
      "    ----------\n",
      "    a : array_like\n",
      "        Array to be reshaped.\n",
      "    newshape : int or tuple of ints\n",
      "        The new shape should be compatible with the original shape. If\n",
      "        an integer, then the result will be a 1-D array of that length.\n",
      "        One shape dimension can be -1. In this case, the value is\n",
      "        inferred from the length of the array and remaining dimensions.\n",
      "    order : {'C', 'F', 'A'}, optional\n",
      "        Read the elements of `a` using this index order, and place the\n",
      "        elements into the reshaped array using this index order.  'C'\n",
      "        means to read / write the elements using C-like index order,\n",
      "        with the last axis index changing fastest, back to the first\n",
      "        axis index changing slowest. 'F' means to read / write the\n",
      "        elements using Fortran-like index order, with the first index\n",
      "        changing fastest, and the last index changing slowest. Note that\n",
      "        the 'C' and 'F' options take no account of the memory layout of\n",
      "        the underlying array, and only refer to the order of indexing.\n",
      "        'A' means to read / write the elements in Fortran-like index\n",
      "        order if `a` is Fortran *contiguous* in memory, C-like order\n",
      "        otherwise.\n",
      "    \n",
      "    Returns\n",
      "    -------\n",
      "    reshaped_array : ndarray\n",
      "        This will be a new view object if possible; otherwise, it will\n",
      "        be a copy.  Note there is no guarantee of the *memory layout* (C- or\n",
      "        Fortran- contiguous) of the returned array.\n",
      "    \n",
      "    See Also\n",
      "    --------\n",
      "    ndarray.reshape : Equivalent method.\n",
      "    \n",
      "    Notes\n",
      "    -----\n",
      "    It is not always possible to change the shape of an array without\n",
      "    copying the data. If you want an error to be raised when the data is copied,\n",
      "    you should assign the new shape to the shape attribute of the array::\n",
      "    \n",
      "     >>> a = np.zeros((10, 2))\n",
      "    \n",
      "     # A transpose makes the array non-contiguous\n",
      "     >>> b = a.T\n",
      "    \n",
      "     # Taking a view makes it possible to modify the shape without modifying\n",
      "     # the initial object.\n",
      "     >>> c = b.view()\n",
      "     >>> c.shape = (20)\n",
      "     Traceback (most recent call last):\n",
      "        ...\n",
      "     AttributeError: Incompatible shape for in-place modification. Use\n",
      "     `.reshape()` to make a copy with the desired shape.\n",
      "    \n",
      "    The `order` keyword gives the index ordering both for *fetching* the values\n",
      "    from `a`, and then *placing* the values into the output array.\n",
      "    For example, let's say you have an array:\n",
      "    \n",
      "    >>> a = np.arange(6).reshape((3, 2))\n",
      "    >>> a\n",
      "    array([[0, 1],\n",
      "           [2, 3],\n",
      "           [4, 5]])\n",
      "    \n",
      "    You can think of reshaping as first raveling the array (using the given\n",
      "    index order), then inserting the elements from the raveled array into the\n",
      "    new array using the same kind of index ordering as was used for the\n",
      "    raveling.\n",
      "    \n",
      "    >>> np.reshape(a, (2, 3)) # C-like index ordering\n",
      "    array([[0, 1, 2],\n",
      "           [3, 4, 5]])\n",
      "    >>> np.reshape(np.ravel(a), (2, 3)) # equivalent to C ravel then C reshape\n",
      "    array([[0, 1, 2],\n",
      "           [3, 4, 5]])\n",
      "    >>> np.reshape(a, (2, 3), order='F') # Fortran-like index ordering\n",
      "    array([[0, 4, 3],\n",
      "           [2, 1, 5]])\n",
      "    >>> np.reshape(np.ravel(a, order='F'), (2, 3), order='F')\n",
      "    array([[0, 4, 3],\n",
      "           [2, 1, 5]])\n",
      "    \n",
      "    Examples\n",
      "    --------\n",
      "    >>> a = np.array([[1,2,3], [4,5,6]])\n",
      "    >>> np.reshape(a, 6)\n",
      "    array([1, 2, 3, 4, 5, 6])\n",
      "    >>> np.reshape(a, 6, order='F')\n",
      "    array([1, 4, 2, 5, 3, 6])\n",
      "    \n",
      "    >>> np.reshape(a, (3,-1))       # the unspecified value is inferred to be 2\n",
      "    array([[1, 2],\n",
      "           [3, 4],\n",
      "           [5, 6]])\n",
      "\n"
     ]
    }
   ],
   "source": [
    "help(np.reshape)"
   ]
  },
  {
   "cell_type": "code",
   "execution_count": 65,
   "id": "e199a8b7",
   "metadata": {},
   "outputs": [
    {
     "data": {
      "text/plain": [
       "array([[72.2, 59.7, 65.2, ..., 71.1, 80.7, 73.4]])"
      ]
     },
     "execution_count": 65,
     "metadata": {},
     "output_type": "execute_result"
    }
   ],
   "source": [
    "yields"
   ]
  },
  {
   "cell_type": "code",
   "execution_count": 64,
   "id": "72a967ed",
   "metadata": {},
   "outputs": [
    {
     "data": {
      "text/plain": [
       "(1, 10000)"
      ]
     },
     "execution_count": 64,
     "metadata": {},
     "output_type": "execute_result"
    }
   ],
   "source": [
    "yields.shape"
   ]
  },
  {
   "cell_type": "code",
   "execution_count": 67,
   "id": "6392dd38",
   "metadata": {},
   "outputs": [
    {
     "data": {
      "text/plain": [
       "array([[72.2, 59.7],\n",
       "       [65.2, 56.8],\n",
       "       [55.8, 69.6],\n",
       "       ...,\n",
       "       [56.2, 87.4],\n",
       "       [49.7, 71.1],\n",
       "       [80.7, 73.4]])"
      ]
     },
     "execution_count": 67,
     "metadata": {},
     "output_type": "execute_result"
    }
   ],
   "source": [
    "np.reshape(yields, (5000, 2))"
   ]
  },
  {
   "cell_type": "code",
   "execution_count": 69,
   "id": "03290118",
   "metadata": {},
   "outputs": [
    {
     "data": {
      "text/plain": [
       "array([[72.2],\n",
       "       [59.7],\n",
       "       [65.2],\n",
       "       ...,\n",
       "       [71.1],\n",
       "       [80.7],\n",
       "       [73.4]])"
      ]
     },
     "execution_count": 69,
     "metadata": {},
     "output_type": "execute_result"
    }
   ],
   "source": [
    "yields.reshape(10000, 1)"
   ]
  },
  {
   "cell_type": "code",
   "execution_count": 71,
   "id": "5b76ea62",
   "metadata": {},
   "outputs": [
    {
     "data": {
      "text/plain": [
       "array([[72.2, 59.7, 65.2, ..., 71.1, 80.7, 73.4]])"
      ]
     },
     "execution_count": 71,
     "metadata": {},
     "output_type": "execute_result"
    }
   ],
   "source": [
    "yields"
   ]
  },
  {
   "cell_type": "code",
   "execution_count": 70,
   "id": "249ad0fc",
   "metadata": {},
   "outputs": [
    {
     "data": {
      "text/plain": [
       "(1, 10000)"
      ]
     },
     "execution_count": 70,
     "metadata": {},
     "output_type": "execute_result"
    }
   ],
   "source": [
    "yields.shape"
   ]
  },
  {
   "cell_type": "code",
   "execution_count": 75,
   "id": "c1965b65",
   "metadata": {},
   "outputs": [],
   "source": [
    "np.savetxt('climate_results.csv', climate_results, fmt='%.2f', header='Temp, Rainfall, Humidity, Yield_apples', comments='')"
   ]
  },
  {
   "cell_type": "markdown",
   "id": "7274ae6e",
   "metadata": {},
   "source": [
    "Arithmetic Operators: Numpy arrays support arithmetic opertors such as +, -, *, /, %, ^. These operations are done element wise (so even you do array op scalar, this operation is done on each element)"
   ]
  },
  {
   "cell_type": "code",
   "execution_count": 79,
   "id": "aea6a5d8",
   "metadata": {},
   "outputs": [],
   "source": [
    "arr1 = np.array([[1, 1],\n",
    "                 [1, 1]])\n",
    "\n",
    "arr2 = np.array([[1, 1],\n",
    "                 [1, 1]])"
   ]
  },
  {
   "cell_type": "code",
   "execution_count": 80,
   "id": "a568c67f",
   "metadata": {},
   "outputs": [
    {
     "data": {
      "text/plain": [
       "array([[2, 2],\n",
       "       [2, 2]])"
      ]
     },
     "execution_count": 80,
     "metadata": {},
     "output_type": "execute_result"
    }
   ],
   "source": [
    "arr1 + arr2"
   ]
  },
  {
   "cell_type": "code",
   "execution_count": null,
   "id": "8a4ae1dc",
   "metadata": {},
   "outputs": [
    {
     "data": {
      "text/plain": [
       "array([[1, 1],\n",
       "       [1, 1]])"
      ]
     },
     "execution_count": 81,
     "metadata": {},
     "output_type": "execute_result"
    }
   ],
   "source": [
    "arr1 * arr2              # * does not do matmul"
   ]
  },
  {
   "cell_type": "code",
   "execution_count": 82,
   "id": "8405229b",
   "metadata": {},
   "outputs": [
    {
     "data": {
      "text/plain": [
       "array([[1., 1.],\n",
       "       [1., 1.]])"
      ]
     },
     "execution_count": 82,
     "metadata": {},
     "output_type": "execute_result"
    }
   ],
   "source": [
    "arr1 / arr2"
   ]
  },
  {
   "cell_type": "code",
   "execution_count": 83,
   "id": "58d8fbd9",
   "metadata": {},
   "outputs": [
    {
     "data": {
      "text/plain": [
       "array([[0, 0],\n",
       "       [0, 0]])"
      ]
     },
     "execution_count": 83,
     "metadata": {},
     "output_type": "execute_result"
    }
   ],
   "source": [
    "arr1 - arr2"
   ]
  },
  {
   "cell_type": "code",
   "execution_count": 84,
   "id": "5f0acd8a",
   "metadata": {},
   "outputs": [
    {
     "data": {
      "text/plain": [
       "array([[1, 1],\n",
       "       [1, 1]])"
      ]
     },
     "execution_count": 84,
     "metadata": {},
     "output_type": "execute_result"
    }
   ],
   "source": [
    "arr1 ** arr2"
   ]
  },
  {
   "cell_type": "code",
   "execution_count": 86,
   "id": "8a2eeb86",
   "metadata": {},
   "outputs": [
    {
     "data": {
      "text/plain": [
       "array([[3, 3],\n",
       "       [3, 3]])"
      ]
     },
     "execution_count": 86,
     "metadata": {},
     "output_type": "execute_result"
    }
   ],
   "source": [
    "arr1 + 2"
   ]
  },
  {
   "cell_type": "code",
   "execution_count": 87,
   "id": "b6e9f87d",
   "metadata": {},
   "outputs": [
    {
     "data": {
      "text/plain": [
       "array([[0, 0],\n",
       "       [0, 0]])"
      ]
     },
     "execution_count": 87,
     "metadata": {},
     "output_type": "execute_result"
    }
   ],
   "source": [
    "arr1 - 1"
   ]
  },
  {
   "cell_type": "code",
   "execution_count": 88,
   "id": "2c55983f",
   "metadata": {},
   "outputs": [
    {
     "data": {
      "text/plain": [
       "array([[3, 3],\n",
       "       [3, 3]])"
      ]
     },
     "execution_count": 88,
     "metadata": {},
     "output_type": "execute_result"
    }
   ],
   "source": [
    "arr1 * 3"
   ]
  },
  {
   "cell_type": "code",
   "execution_count": 89,
   "id": "f517b3e3",
   "metadata": {},
   "outputs": [
    {
     "data": {
      "text/plain": [
       "array([[0.5, 0.5],\n",
       "       [0.5, 0.5]])"
      ]
     },
     "execution_count": 89,
     "metadata": {},
     "output_type": "execute_result"
    }
   ],
   "source": [
    "arr1 / 2"
   ]
  },
  {
   "cell_type": "code",
   "execution_count": 92,
   "id": "6ee59836",
   "metadata": {},
   "outputs": [
    {
     "data": {
      "text/plain": [
       "array([[0, 0],\n",
       "       [0, 0]])"
      ]
     },
     "execution_count": 92,
     "metadata": {},
     "output_type": "execute_result"
    }
   ],
   "source": [
    "arr1 % 1"
   ]
  },
  {
   "cell_type": "code",
   "execution_count": 93,
   "id": "750bc74a",
   "metadata": {},
   "outputs": [
    {
     "data": {
      "text/plain": [
       "array([[1, 1],\n",
       "       [1, 1]])"
      ]
     },
     "execution_count": 93,
     "metadata": {},
     "output_type": "execute_result"
    }
   ],
   "source": [
    "arr1 ** 3"
   ]
  },
  {
   "cell_type": "code",
   "execution_count": 94,
   "id": "46b8a97b",
   "metadata": {},
   "outputs": [
    {
     "data": {
      "text/plain": [
       "(2, 3)"
      ]
     },
     "execution_count": 94,
     "metadata": {},
     "output_type": "execute_result"
    }
   ],
   "source": [
    "arr3 = np.array([[1, 1, 1],\n",
    "                 [1, 1, 1]])\n",
    "\n",
    "arr3.shape"
   ]
  },
  {
   "cell_type": "code",
   "execution_count": 95,
   "id": "c9503670",
   "metadata": {},
   "outputs": [
    {
     "data": {
      "text/plain": [
       "(2, 2)"
      ]
     },
     "execution_count": 95,
     "metadata": {},
     "output_type": "execute_result"
    }
   ],
   "source": [
    "arr1.shape"
   ]
  },
  {
   "cell_type": "code",
   "execution_count": 96,
   "id": "d84832ae",
   "metadata": {},
   "outputs": [
    {
     "ename": "ValueError",
     "evalue": "operands could not be broadcast together with shapes (2,2) (2,3) ",
     "output_type": "error",
     "traceback": [
      "\u001b[0;31m---------------------------------------------------------------------------\u001b[0m",
      "\u001b[0;31mValueError\u001b[0m                                Traceback (most recent call last)",
      "Cell \u001b[0;32mIn[96], line 1\u001b[0m\n\u001b[0;32m----> 1\u001b[0m arr1\u001b[38;5;241m+\u001b[39m arr3\n",
      "\u001b[0;31mValueError\u001b[0m: operands could not be broadcast together with shapes (2,2) (2,3) "
     ]
    }
   ],
   "source": [
    "arr1+ arr3"
   ]
  },
  {
   "cell_type": "markdown",
   "id": "bcd92d54",
   "metadata": {},
   "source": [
    "Broadcasting\n",
    "\n",
    "When the expression `arr4 + arr5` is evaluated, `arr5` (which has the shape `(4,)`) is replicated three times to match the shape `(3, 4)` of `arr4`. Numpy performs the replication without actually creating three copies of the smaller dimension array, thus improving performance and using lower memory.\n",
    "\n",
    "<img src=\"https://jakevdp.github.io/PythonDataScienceHandbook/figures/02.05-broadcasting.png\" width=\"360\">\n",
    "\n",
    "Broadcasting only works if one of the arrays can be replicated to match the other array's shape."
   ]
  },
  {
   "cell_type": "code",
   "execution_count": 102,
   "id": "89f363f7",
   "metadata": {},
   "outputs": [
    {
     "data": {
      "text/plain": [
       "(3, 4)"
      ]
     },
     "execution_count": 102,
     "metadata": {},
     "output_type": "execute_result"
    }
   ],
   "source": [
    "arr4 = np.array([[1, 2, 3, 4], \n",
    "                 [5, 6, 7, 8], \n",
    "                 [9, 1, 2, 3]])\n",
    "\n",
    "arr4.shape"
   ]
  },
  {
   "cell_type": "code",
   "execution_count": 103,
   "id": "5aeb3ea9",
   "metadata": {},
   "outputs": [
    {
     "data": {
      "text/plain": [
       "(4,)"
      ]
     },
     "execution_count": 103,
     "metadata": {},
     "output_type": "execute_result"
    }
   ],
   "source": [
    "arr5 = np.array([10, 10, 10, 10])\n",
    "arr5.shape"
   ]
  },
  {
   "cell_type": "code",
   "execution_count": 101,
   "id": "444ee65e",
   "metadata": {},
   "outputs": [
    {
     "data": {
      "text/plain": [
       "array([[11, 12, 13, 14],\n",
       "       [15, 16, 17, 18],\n",
       "       [19, 11, 12, 13]])"
      ]
     },
     "execution_count": 101,
     "metadata": {},
     "output_type": "execute_result"
    }
   ],
   "source": [
    "arr4 + arr5"
   ]
  },
  {
   "cell_type": "code",
   "execution_count": 105,
   "id": "4ab8108f",
   "metadata": {},
   "outputs": [
    {
     "data": {
      "text/plain": [
       "(3,)"
      ]
     },
     "execution_count": 105,
     "metadata": {},
     "output_type": "execute_result"
    }
   ],
   "source": [
    "arr6 = np.array([100, 200, 300])\n",
    "arr6.shape"
   ]
  },
  {
   "cell_type": "code",
   "execution_count": 106,
   "id": "a14c02bc",
   "metadata": {},
   "outputs": [
    {
     "ename": "ValueError",
     "evalue": "operands could not be broadcast together with shapes (3,4) (3,) ",
     "output_type": "error",
     "traceback": [
      "\u001b[0;31m---------------------------------------------------------------------------\u001b[0m",
      "\u001b[0;31mValueError\u001b[0m                                Traceback (most recent call last)",
      "Cell \u001b[0;32mIn[106], line 1\u001b[0m\n\u001b[0;32m----> 1\u001b[0m arr4 \u001b[38;5;241m+\u001b[39m arr6\n",
      "\u001b[0;31mValueError\u001b[0m: operands could not be broadcast together with shapes (3,4) (3,) "
     ]
    }
   ],
   "source": [
    "arr4 + arr6"
   ]
  },
  {
   "cell_type": "code",
   "execution_count": 107,
   "id": "f6637d53",
   "metadata": {},
   "outputs": [
    {
     "data": {
      "text/plain": [
       "array([[101, 102, 103, 104],\n",
       "       [205, 206, 207, 208],\n",
       "       [309, 301, 302, 303]])"
      ]
     },
     "execution_count": 107,
     "metadata": {},
     "output_type": "execute_result"
    }
   ],
   "source": [
    "arr4 + arr6.reshape(3,1)"
   ]
  },
  {
   "cell_type": "markdown",
   "id": "e5685dc7",
   "metadata": {},
   "source": [
    "Comparision operators with numoy arrays - Numpy arrays also support comparision operators. These perform element wise comparision and return an array of booleans"
   ]
  },
  {
   "cell_type": "code",
   "execution_count": 108,
   "id": "e4d2ba91",
   "metadata": {},
   "outputs": [
    {
     "data": {
      "text/plain": [
       "array([[1, 1],\n",
       "       [1, 1]])"
      ]
     },
     "execution_count": 108,
     "metadata": {},
     "output_type": "execute_result"
    }
   ],
   "source": [
    "arr1"
   ]
  },
  {
   "cell_type": "code",
   "execution_count": 110,
   "id": "f8846a30",
   "metadata": {},
   "outputs": [
    {
     "data": {
      "text/plain": [
       "array([[1, 0],\n",
       "       [0, 1]])"
      ]
     },
     "execution_count": 110,
     "metadata": {},
     "output_type": "execute_result"
    }
   ],
   "source": [
    "arr2 = np.array([\n",
    "                [1,0],\n",
    "                [0,1]\n",
    "                ])\n",
    "\n",
    "arr2"
   ]
  },
  {
   "cell_type": "code",
   "execution_count": 111,
   "id": "5231bfad",
   "metadata": {},
   "outputs": [
    {
     "data": {
      "text/plain": [
       "array([[ True, False],\n",
       "       [False,  True]])"
      ]
     },
     "execution_count": 111,
     "metadata": {},
     "output_type": "execute_result"
    }
   ],
   "source": [
    "arr1 == arr2"
   ]
  },
  {
   "cell_type": "code",
   "execution_count": 112,
   "id": "96f405bf",
   "metadata": {},
   "outputs": [
    {
     "data": {
      "text/plain": [
       "array([[False,  True],\n",
       "       [ True, False]])"
      ]
     },
     "execution_count": 112,
     "metadata": {},
     "output_type": "execute_result"
    }
   ],
   "source": [
    "arr1 > arr2"
   ]
  },
  {
   "cell_type": "code",
   "execution_count": 113,
   "id": "f95340c7",
   "metadata": {},
   "outputs": [
    {
     "data": {
      "text/plain": [
       "array([[False, False],\n",
       "       [False, False]])"
      ]
     },
     "execution_count": 113,
     "metadata": {},
     "output_type": "execute_result"
    }
   ],
   "source": [
    "arr1 < arr2"
   ]
  },
  {
   "cell_type": "code",
   "execution_count": 114,
   "id": "c76cbbe6",
   "metadata": {},
   "outputs": [
    {
     "data": {
      "text/plain": [
       "array([[False,  True],\n",
       "       [ True, False]])"
      ]
     },
     "execution_count": 114,
     "metadata": {},
     "output_type": "execute_result"
    }
   ],
   "source": [
    "arr1 != arr2"
   ]
  },
  {
   "cell_type": "code",
   "execution_count": 115,
   "id": "19d280c8",
   "metadata": {},
   "outputs": [
    {
     "data": {
      "text/plain": [
       "2"
      ]
     },
     "execution_count": 115,
     "metadata": {},
     "output_type": "execute_result"
    }
   ],
   "source": [
    "(arr1 == arr2).sum()"
   ]
  },
  {
   "cell_type": "markdown",
   "id": "71226166",
   "metadata": {},
   "source": [
    "Indexing and Slicing.\n",
    "\n",
    "numpy extends Pythons list indexing notation []. you can provide a list of , separated indcies or ranges across each dimension of the array to select a specific element from the array or a sub array (i.e slice)"
   ]
  },
  {
   "cell_type": "code",
   "execution_count": 116,
   "id": "b63c3973",
   "metadata": {},
   "outputs": [],
   "source": [
    "arr6 = np.array([\n",
    "    [[11, 12, 13, 14], \n",
    "     [13, 14, 15, 19]], \n",
    "    \n",
    "    [[15, 16, 17, 21], \n",
    "     [63, 92, 36, 18]], \n",
    "    \n",
    "    [[98, 32, 81, 23],      \n",
    "     [17, 18, 19.5, 43]]])"
   ]
  },
  {
   "cell_type": "code",
   "execution_count": 117,
   "id": "0fbf6327",
   "metadata": {},
   "outputs": [
    {
     "data": {
      "text/plain": [
       "(3, 2, 4)"
      ]
     },
     "execution_count": 117,
     "metadata": {},
     "output_type": "execute_result"
    }
   ],
   "source": [
    "arr6.shape"
   ]
  },
  {
   "cell_type": "code",
   "execution_count": 123,
   "id": "49755e7e",
   "metadata": {},
   "outputs": [
    {
     "data": {
      "text/plain": [
       "36.0"
      ]
     },
     "execution_count": 123,
     "metadata": {},
     "output_type": "execute_result"
    }
   ],
   "source": [
    "# Single element\n",
    "arr6[1, 1, 2]"
   ]
  },
  {
   "cell_type": "code",
   "execution_count": 125,
   "id": "79b963c0",
   "metadata": {},
   "outputs": [
    {
     "data": {
      "text/plain": [
       "array([[[15., 16.]],\n",
       "\n",
       "       [[98., 32.]]])"
      ]
     },
     "execution_count": 125,
     "metadata": {},
     "output_type": "execute_result"
    }
   ],
   "source": [
    "# Subarray using ranges\n",
    "arr6[1:, 0:1, :2]                #arr6[1:] - selects all matrices from index 1\n",
    "                                  # arr6[, 0:1] - from the selected matrices, selects the 0th rows\n",
    "                                  # arr6[,, :2] - from the selected rows, selects the 0th and the 1st column elements"
   ]
  },
  {
   "cell_type": "code",
   "execution_count": 126,
   "id": "32ac85ae",
   "metadata": {},
   "outputs": [
    {
     "data": {
      "text/plain": [
       "(2, 1, 2)"
      ]
     },
     "execution_count": 126,
     "metadata": {},
     "output_type": "execute_result"
    }
   ],
   "source": [
    "#Slicing preserves the number of dimensions of the original array\n",
    "arr6[1:, 0:1, :2].shape              #arr6 also had 3 dimensions"
   ]
  },
  {
   "cell_type": "code",
   "execution_count": 129,
   "id": "aa0cc1fb",
   "metadata": {},
   "outputs": [
    {
     "data": {
      "text/plain": [
       "array([18., 43.])"
      ]
     },
     "execution_count": 129,
     "metadata": {},
     "output_type": "execute_result"
    }
   ],
   "source": [
    "# Mixing indices and ranges\n",
    "arr6[1:, 1, 3]"
   ]
  },
  {
   "cell_type": "code",
   "execution_count": 130,
   "id": "045649ee",
   "metadata": {},
   "outputs": [
    {
     "data": {
      "text/plain": [
       "array([[63. , 92. , 36. ],\n",
       "       [17. , 18. , 19.5]])"
      ]
     },
     "execution_count": 130,
     "metadata": {},
     "output_type": "execute_result"
    }
   ],
   "source": [
    "# Mixing indices and ranges\n",
    "arr6[1:, 1, :3]"
   ]
  },
  {
   "cell_type": "code",
   "execution_count": 131,
   "id": "335713dc",
   "metadata": {},
   "outputs": [
    {
     "data": {
      "text/plain": [
       "array([[15., 16., 17., 21.],\n",
       "       [63., 92., 36., 18.]])"
      ]
     },
     "execution_count": 131,
     "metadata": {},
     "output_type": "execute_result"
    }
   ],
   "source": [
    "# Using fewer indices\n",
    "arr6[1]"
   ]
  },
  {
   "cell_type": "code",
   "execution_count": 132,
   "id": "0657d61a",
   "metadata": {},
   "outputs": [
    {
     "data": {
      "text/plain": [
       "array([[13., 14., 15., 19.],\n",
       "       [63., 92., 36., 18.]])"
      ]
     },
     "execution_count": 132,
     "metadata": {},
     "output_type": "execute_result"
    }
   ],
   "source": [
    "# Using fewer indices\n",
    "arr6[:2, 1]"
   ]
  },
  {
   "cell_type": "code",
   "execution_count": 133,
   "id": "3cee9831",
   "metadata": {},
   "outputs": [
    {
     "ename": "IndexError",
     "evalue": "too many indices for array: array is 3-dimensional, but 4 were indexed",
     "output_type": "error",
     "traceback": [
      "\u001b[0;31m---------------------------------------------------------------------------\u001b[0m",
      "\u001b[0;31mIndexError\u001b[0m                                Traceback (most recent call last)",
      "Cell \u001b[0;32mIn[133], line 2\u001b[0m\n\u001b[1;32m      1\u001b[0m \u001b[38;5;66;03m# Using too many indices\u001b[39;00m\n\u001b[0;32m----> 2\u001b[0m arr6[\u001b[38;5;241m1\u001b[39m,\u001b[38;5;241m3\u001b[39m,\u001b[38;5;241m2\u001b[39m,\u001b[38;5;241m1\u001b[39m]\n",
      "\u001b[0;31mIndexError\u001b[0m: too many indices for array: array is 3-dimensional, but 4 were indexed"
     ]
    }
   ],
   "source": [
    "# Using too many indices\n",
    "arr6[1,3,2,1]"
   ]
  },
  {
   "cell_type": "markdown",
   "id": "adc6e69e",
   "metadata": {},
   "source": [
    "The notation and its results can seem confusing at first, so take your time to experiment and become comfortable with it. Use the cells below to try out some examples of array indexing and slicing, with different combinations of indices and ranges. Here are some more examples demonstrated visually:\n",
    "\n",
    "<img src=\"https://scipy-lectures.org/_images/numpy_indexing.png\" width=\"360\">"
   ]
  },
  {
   "cell_type": "code",
   "execution_count": 134,
   "id": "311a1808",
   "metadata": {},
   "outputs": [
    {
     "data": {
      "text/plain": [
       "array([[ 0,  1,  2,  3,  4,  5],\n",
       "       [10, 11, 12, 13, 14, 15],\n",
       "       [20, 21, 22, 23, 24, 25],\n",
       "       [30, 31, 32, 33, 34, 35],\n",
       "       [40, 41, 42, 43, 44, 45],\n",
       "       [50, 51, 52, 53, 54, 55]])"
      ]
     },
     "execution_count": 134,
     "metadata": {},
     "output_type": "execute_result"
    }
   ],
   "source": [
    "arr7 = np.array([\n",
    "                 [0,1,2,3,4,5]\n",
    "                ,[10,11,12,13,14,15]\n",
    "                ,[20,21,22,23,24,25]\n",
    "                ,[30,31,32,33,34,35]\n",
    "                ,[40,41,42,43,44,45]\n",
    "                ,[50,51,52,53,54,55]\n",
    "                ])\n",
    "\n",
    "arr7"
   ]
  },
  {
   "cell_type": "code",
   "execution_count": 135,
   "id": "6aa261fc",
   "metadata": {},
   "outputs": [
    {
     "data": {
      "text/plain": [
       "(6, 6)"
      ]
     },
     "execution_count": 135,
     "metadata": {},
     "output_type": "execute_result"
    }
   ],
   "source": [
    "arr7.shape"
   ]
  },
  {
   "cell_type": "code",
   "execution_count": 136,
   "id": "46f5751e",
   "metadata": {},
   "outputs": [
    {
     "data": {
      "text/plain": [
       "array([3, 4])"
      ]
     },
     "execution_count": 136,
     "metadata": {},
     "output_type": "execute_result"
    }
   ],
   "source": [
    "arr7[0, 3:5]"
   ]
  },
  {
   "cell_type": "code",
   "execution_count": 137,
   "id": "d470f642",
   "metadata": {},
   "outputs": [
    {
     "data": {
      "text/plain": [
       "array([ 2, 12, 22, 32, 42, 52])"
      ]
     },
     "execution_count": 137,
     "metadata": {},
     "output_type": "execute_result"
    }
   ],
   "source": [
    "arr7[:, 2]"
   ]
  },
  {
   "cell_type": "code",
   "execution_count": 138,
   "id": "e74cde0b",
   "metadata": {},
   "outputs": [
    {
     "data": {
      "text/plain": [
       "array([[44, 45],\n",
       "       [54, 55]])"
      ]
     },
     "execution_count": 138,
     "metadata": {},
     "output_type": "execute_result"
    }
   ],
   "source": [
    "arr7[4:, 4:]"
   ]
  },
  {
   "cell_type": "code",
   "execution_count": 139,
   "id": "8449d511",
   "metadata": {},
   "outputs": [
    {
     "data": {
      "text/plain": [
       "array([[20, 22, 24],\n",
       "       [40, 42, 44]])"
      ]
     },
     "execution_count": 139,
     "metadata": {},
     "output_type": "execute_result"
    }
   ],
   "source": [
    "arr7[2:5:2, 0:5:2]"
   ]
  },
  {
   "cell_type": "markdown",
   "id": "ecc9ce80",
   "metadata": {},
   "source": [
    "Other useful array creation methods - Numpy provides some useful methods to create arrays of desired shape with fixed or random values.\n",
    "\n",
    "Official Doc - https://numpy.org/doc/stable/reference/routines.array-creation.html"
   ]
  },
  {
   "cell_type": "code",
   "execution_count": 145,
   "id": "e3432a37",
   "metadata": {},
   "outputs": [
    {
     "data": {
      "text/plain": [
       "array([[0, 0],\n",
       "       [0, 0],\n",
       "       [0, 0],\n",
       "       [0, 0]])"
      ]
     },
     "execution_count": 145,
     "metadata": {},
     "output_type": "execute_result"
    }
   ],
   "source": [
    "# All zeros\n",
    "np.zeros((4,2), dtype=np.int64)"
   ]
  },
  {
   "cell_type": "code",
   "execution_count": 146,
   "id": "c2add35a",
   "metadata": {},
   "outputs": [
    {
     "data": {
      "text/plain": [
       "array([[1., 1.],\n",
       "       [1., 1.],\n",
       "       [1., 1.]])"
      ]
     },
     "execution_count": 146,
     "metadata": {},
     "output_type": "execute_result"
    }
   ],
   "source": [
    "# All ones\n",
    "np.ones((3,2))"
   ]
  },
  {
   "cell_type": "code",
   "execution_count": 149,
   "id": "14dc5824",
   "metadata": {},
   "outputs": [
    {
     "data": {
      "text/plain": [
       "array([[1., 0.],\n",
       "       [0., 1.]])"
      ]
     },
     "execution_count": 149,
     "metadata": {},
     "output_type": "execute_result"
    }
   ],
   "source": [
    "# Identity Matrix\n",
    "np.eye(2)"
   ]
  },
  {
   "cell_type": "code",
   "execution_count": null,
   "id": "7d7b34a7",
   "metadata": {},
   "outputs": [
    {
     "data": {
      "text/plain": [
       "array([[1., 0., 0.],\n",
       "       [0., 1., 0.]])"
      ]
     },
     "execution_count": 150,
     "metadata": {},
     "output_type": "execute_result"
    }
   ],
   "source": [
    "np.eye(2,3,)"
   ]
  },
  {
   "cell_type": "code",
   "execution_count": 154,
   "id": "068db1e0",
   "metadata": {},
   "outputs": [
    {
     "data": {
      "text/plain": [
       "array([0.8620874 , 0.74697118, 0.85294772, 0.72295869, 0.62946448])"
      ]
     },
     "execution_count": 154,
     "metadata": {},
     "output_type": "execute_result"
    }
   ],
   "source": [
    "#Random Vector\n",
    "np.random.rand(5)"
   ]
  },
  {
   "cell_type": "code",
   "execution_count": 155,
   "id": "43e8f3a2",
   "metadata": {},
   "outputs": [
    {
     "data": {
      "text/plain": [
       "array([[0.86790558, 0.52865617, 0.81488127],\n",
       "       [0.07317612, 0.65723649, 0.99492098]])"
      ]
     },
     "execution_count": 155,
     "metadata": {},
     "output_type": "execute_result"
    }
   ],
   "source": [
    "#Random Matrix\n",
    "np.random.rand(2,3)"
   ]
  },
  {
   "cell_type": "code",
   "execution_count": null,
   "id": "bae63533",
   "metadata": {},
   "outputs": [
    {
     "data": {
      "text/plain": [
       "array([ 0.71299907, -1.57390205,  1.85575252, -1.32909232,  2.17480131])"
      ]
     },
     "execution_count": 156,
     "metadata": {},
     "output_type": "execute_result"
    }
   ],
   "source": [
    "#Random Vector - uses Standard Normal Distribuion\n",
    "np.random.randn(5)"
   ]
  },
  {
   "cell_type": "code",
   "execution_count": 157,
   "id": "5163ae59",
   "metadata": {},
   "outputs": [
    {
     "data": {
      "text/plain": [
       "array([[0.06953603, 0.43700339, 0.87006221],\n",
       "       [0.90142402, 0.90535496, 0.85639365]])"
      ]
     },
     "execution_count": 157,
     "metadata": {},
     "output_type": "execute_result"
    }
   ],
   "source": [
    "#Random Matrix - uses Standard Normal Distribuion\n",
    "np.random.rand(2,3)"
   ]
  },
  {
   "cell_type": "code",
   "execution_count": 159,
   "id": "b2e07b52",
   "metadata": {},
   "outputs": [
    {
     "data": {
      "text/plain": [
       "array([[4, 4],\n",
       "       [3, 3],\n",
       "       [3, 5]])"
      ]
     },
     "execution_count": 159,
     "metadata": {},
     "output_type": "execute_result"
    }
   ],
   "source": [
    "#Random Matrix of integers\n",
    "np.random.randint(low=3, high=6, size=(3,2))"
   ]
  },
  {
   "cell_type": "code",
   "execution_count": 160,
   "id": "406b864a",
   "metadata": {},
   "outputs": [
    {
     "data": {
      "text/plain": [
       "array([[9, 9, 9],\n",
       "       [9, 9, 9]])"
      ]
     },
     "execution_count": 160,
     "metadata": {},
     "output_type": "execute_result"
    }
   ],
   "source": [
    "# Fixed value\n",
    "np.full((2, 3), 9)"
   ]
  },
  {
   "cell_type": "code",
   "execution_count": 161,
   "id": "b74c257a",
   "metadata": {},
   "outputs": [
    {
     "data": {
      "text/plain": [
       "array([1, 4, 7])"
      ]
     },
     "execution_count": 161,
     "metadata": {},
     "output_type": "execute_result"
    }
   ],
   "source": [
    "# Range with start, end and step\n",
    "np.arange(1, 10, 3)"
   ]
  },
  {
   "cell_type": "code",
   "execution_count": 164,
   "id": "80044c1f",
   "metadata": {},
   "outputs": [],
   "source": [
    "# Equally spaced numbers in a range\n",
    "a = np.linspace(2,32,10)         # The num argument specifies the number of values to be generated within the range"
   ]
  },
  {
   "cell_type": "code",
   "execution_count": 165,
   "id": "aab0978f",
   "metadata": {},
   "outputs": [
    {
     "data": {
      "text/plain": [
       "(10,)"
      ]
     },
     "execution_count": 165,
     "metadata": {},
     "output_type": "execute_result"
    }
   ],
   "source": [
    "a.shape"
   ]
  },
  {
   "cell_type": "code",
   "execution_count": 166,
   "id": "e614319a",
   "metadata": {},
   "outputs": [
    {
     "data": {
      "text/plain": [
       "array([[ 2.        ,  5.33333333,  8.66666667, 12.        , 15.33333333],\n",
       "       [18.66666667, 22.        , 25.33333333, 28.66666667, 32.        ]])"
      ]
     },
     "execution_count": 166,
     "metadata": {},
     "output_type": "execute_result"
    }
   ],
   "source": [
    "a.reshape(2,5)"
   ]
  },
  {
   "cell_type": "code",
   "execution_count": null,
   "id": "fd79647f",
   "metadata": {},
   "outputs": [],
   "source": []
  }
 ],
 "metadata": {
  "kernelspec": {
   "display_name": "base",
   "language": "python",
   "name": "python3"
  },
  "language_info": {
   "codemirror_mode": {
    "name": "ipython",
    "version": 3
   },
   "file_extension": ".py",
   "mimetype": "text/x-python",
   "name": "python",
   "nbconvert_exporter": "python",
   "pygments_lexer": "ipython3",
   "version": "3.11.8"
  }
 },
 "nbformat": 4,
 "nbformat_minor": 5
}
